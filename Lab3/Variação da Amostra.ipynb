{
 "cells": [
  {
   "cell_type": "code",
   "execution_count": null,
   "id": "e58e7231",
   "metadata": {},
   "outputs": [],
   "source": [
    "import pandas as pd\n",
    "import numpy as np\n",
    "from scipy.stats import norm\n",
    "import matplotlib.pyplot as plt"
   ]
  },
  {
   "cell_type": "code",
   "execution_count": null,
   "id": "6f5c0131",
   "metadata": {},
   "outputs": [],
   "source": [
    "# Sample mean and SD keep changing, but always within a certain range\n",
    "Fstsample = pd.DataFrame(np.random.normal(10, 5, size=30)) # média = 10, desvio padrão = 5, tamanho da amostra = 30\n",
    "print('sample mean is ', Fstsample[0].mean())\n",
    "print('sample SD is ', Fstsample[0].std(ddof=1))\n",
    "\n",
    "# As amostras são retiradas aleatoriamente de uma distribuição normal"
   ]
  },
  {
   "cell_type": "markdown",
   "id": "cbefd560",
   "metadata": {},
   "source": [
    "### Empirical Distribution of mean"
   ]
  },
  {
   "cell_type": "code",
   "execution_count": null,
   "id": "11c92dd0",
   "metadata": {},
   "outputs": [],
   "source": [
    "meanlist = [] # Lista das médias das 1.000 amostras\n",
    "varlist = [] # Lista das variancias das 1.000 amostras\n",
    "for t in range(10000):\n",
    "    sample = pd.DataFrame(np.random.normal(10, 5, size=30))\n",
    "    meanlist.append(sample[0].mean()) # Trazerá o resultado das medias das amostras\n",
    "    varlist.append(sample[0].var(ddof = 1)) # Trazerá o resultado das variancias das amostras"
   ]
  },
  {
   "cell_type": "code",
   "execution_count": null,
   "id": "02ce62d2",
   "metadata": {},
   "outputs": [],
   "source": [
    "collection = pd.DataFrame() # Criando DataFrame vazio\n",
    "\n",
    "collection['meanlist'] = meanlist\n",
    "collection['varlist'] = varlist"
   ]
  },
  {
   "cell_type": "code",
   "execution_count": null,
   "id": "0094085e",
   "metadata": {},
   "outputs": [],
   "source": [
    "collection['meanlist'].hist(bins=100, normed=1,figsize=(15,8)) # Gráfico Histograma"
   ]
  },
  {
   "cell_type": "code",
   "execution_count": null,
   "id": "00bcbfdb",
   "metadata": {},
   "outputs": [],
   "source": [
    "collection['varlist'].hist(bins=100, normed=1,figsize=(15,8)) # Gráfico Histograma"
   ]
  },
  {
   "cell_type": "code",
   "execution_count": null,
   "id": "a7504c87",
   "metadata": {},
   "outputs": [],
   "source": [
    "pop = pd.DataFrame(np.random.normal(10, 5, size = 100000))\n",
    "\n",
    "pop[0].hist(bins = 500, color = 'cyan', normed = 1, label = 'Population')\n",
    "collection['meanlist'].hist(bins = 500, normed = 1, color = 'red', label = 'Média da Amostra')\n",
    "\n",
    "#Personalização do Gráfico\n",
    "plt.legend()\n",
    "plt.title('Distribuição: População vs. Média das Amostras')\n",
    "plt.xlabel('Valor')\n",
    "plt.ylabel('Densidade')"
   ]
  },
  {
   "cell_type": "code",
   "execution_count": null,
   "id": "7bcbe323",
   "metadata": {},
   "outputs": [],
   "source": [
    "### Sampling from arbritary distribution"
   ]
  },
  {
   "cell_type": "code",
   "execution_count": null,
   "id": "93eb1289",
   "metadata": {},
   "outputs": [],
   "source": [
    "# See what central limit theorem tells you...the sample size is larger enough, \n",
    "# the distribution of sample mean is approximately normal\n",
    "# apop is not normal, but try to change the sample size from 100 to a larger number. The distribution of sample mean of apop \n",
    "# becomes normal.\n",
    "sample_size = 500\n",
    "samplemeanlist = []\n",
    "apop =  pd.DataFrame([1, 0, 1, 0, 1])\n",
    "for t in range(10000):\n",
    "    sample = apop[0].sample(sample_size, replace=True)  # small sample size\n",
    "    samplemeanlist.append(sample.mean())\n",
    "\n",
    "acollec = pd.DataFrame()\n",
    "acollec['meanlist'] = samplemeanlist\n",
    "acollec.hist(bins=500, normed=1,figsize=(15,8))"
   ]
  }
 ],
 "metadata": {
  "kernelspec": {
   "display_name": "Python 3 (ipykernel)",
   "language": "python",
   "name": "python3"
  },
  "language_info": {
   "codemirror_mode": {
    "name": "ipython",
    "version": 3
   },
   "file_extension": ".py",
   "mimetype": "text/x-python",
   "name": "python",
   "nbconvert_exporter": "python",
   "pygments_lexer": "ipython3",
   "version": "3.10.9"
  }
 },
 "nbformat": 4,
 "nbformat_minor": 5
}
