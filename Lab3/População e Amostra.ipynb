{
 "cells": [
  {
   "cell_type": "markdown",
   "id": "980b70a0",
   "metadata": {},
   "source": [
    "## Population and Sample"
   ]
  },
  {
   "cell_type": "code",
   "execution_count": 1,
   "id": "112c313e",
   "metadata": {},
   "outputs": [],
   "source": [
    "import pandas as pd\n",
    "import numpy as np"
   ]
  },
  {
   "cell_type": "code",
   "execution_count": 2,
   "id": "e1ed94b2",
   "metadata": {},
   "outputs": [],
   "source": [
    "# Criação da população com 10 dados \n",
    "\n",
    "data = pd.DataFrame()\n",
    "data['Population'] = [47, 48, 85, 20, 19, 13, 72, 16, 50, 60]"
   ]
  },
  {
   "cell_type": "markdown",
   "id": "41c5fda5",
   "metadata": {},
   "source": [
    "Você pode obter resultados diferentes da amostragem."
   ]
  },
  {
   "cell_type": "code",
   "execution_count": 3,
   "id": "932aeca5",
   "metadata": {},
   "outputs": [
    {
     "name": "stdout",
     "output_type": "stream",
     "text": [
      "3    20\n",
      "2    85\n",
      "4    19\n",
      "9    60\n",
      "6    72\n",
      "Name: Population, dtype: int64\n"
     ]
    }
   ],
   "source": [
    "# Amostragem da população sem substituição. \n",
    "\n",
    "a_sample_without_replacement = data['Population'].sample(5, replace=False) # Sorteio de 5 indivíduos aleatórios sem substituição\n",
    "print(a_sample_without_replacement)"
   ]
  },
  {
   "cell_type": "code",
   "execution_count": 4,
   "id": "e2a5eced",
   "metadata": {},
   "outputs": [
    {
     "name": "stdout",
     "output_type": "stream",
     "text": [
      "5    13\n",
      "9    60\n",
      "8    50\n",
      "0    47\n",
      "0    47\n",
      "Name: Population, dtype: int64\n"
     ]
    }
   ],
   "source": [
    "# Amostragem da população com substituição.\n",
    "\n",
    "a_sample_with_replacement = data['Population'].sample(5, replace=True) # Sorteio de 5 indivíduos aleatórios com substituição\n",
    "print(a_sample_with_replacement)"
   ]
  },
  {
   "cell_type": "markdown",
   "id": "8ca607b3",
   "metadata": {},
   "source": [
    "### Parâmetros e Estatisticas"
   ]
  },
  {
   "cell_type": "code",
   "execution_count": 1,
   "id": "24b24a29",
   "metadata": {},
   "outputs": [
    {
     "ename": "NameError",
     "evalue": "name 'data' is not defined",
     "output_type": "error",
     "traceback": [
      "\u001b[1;31m---------------------------------------------------------------------------\u001b[0m",
      "\u001b[1;31mNameError\u001b[0m                                 Traceback (most recent call last)",
      "Cell \u001b[1;32mIn[1], line 4\u001b[0m\n\u001b[0;32m      1\u001b[0m \u001b[38;5;66;03m# Calculate mean and variance (Calculo da média e variância)\u001b[39;00m\n\u001b[0;32m      2\u001b[0m \u001b[38;5;66;03m# Parametros\u001b[39;00m\n\u001b[1;32m----> 4\u001b[0m population_mean \u001b[38;5;241m=\u001b[39m \u001b[43mdata\u001b[49m[\u001b[38;5;124m'\u001b[39m\u001b[38;5;124mPopulation\u001b[39m\u001b[38;5;124m'\u001b[39m]\u001b[38;5;241m.\u001b[39mmean() \u001b[38;5;66;03m# média da população\u001b[39;00m\n\u001b[0;32m      5\u001b[0m population_var \u001b[38;5;241m=\u001b[39m data[\u001b[38;5;124m'\u001b[39m\u001b[38;5;124mPopulation\u001b[39m\u001b[38;5;124m'\u001b[39m]\u001b[38;5;241m.\u001b[39mvar(ddof \u001b[38;5;241m=\u001b[39m \u001b[38;5;241m0\u001b[39m) \u001b[38;5;66;03m# variancia da população \u001b[39;00m\n\u001b[0;32m      6\u001b[0m population_std \u001b[38;5;241m=\u001b[39m data[\u001b[38;5;124m\"\u001b[39m\u001b[38;5;124mPopulation\u001b[39m\u001b[38;5;124m\"\u001b[39m]\u001b[38;5;241m.\u001b[39mstd(ddof \u001b[38;5;241m=\u001b[39m \u001b[38;5;241m0\u001b[39m) \u001b[38;5;66;03m# Desvio Padrão\u001b[39;00m\n",
      "\u001b[1;31mNameError\u001b[0m: name 'data' is not defined"
     ]
    }
   ],
   "source": [
    "# Calculate mean and variance (Calculo da média e variância)\n",
    "# Parametros\n",
    "\n",
    "population_mean = data['Population'].mean() # média da população\n",
    "population_var = data['Population'].var(ddof = 0) # variancia da população \n",
    "population_std = data[\"Population\"].std(ddof = 0) # Desvio Padrão\n",
    "    # ddof = 0 significa que o denominador da formula da variancia é \"n\"\n",
    "population_size = data['Population'].shape[0]\n",
    "    # .shape oferece um tamanho de quadro de dados em linhas e colunas\n",
    "    # .shape[0] exibe somente o numero de linhas\n",
    "\n",
    "print('Population mean is ', population_mean)\n",
    "print('Population variance is', population_var)\n",
    "print('Population standard deviation is ', population_std)\n",
    "print('Population size is ', population_size)"
   ]
  },
  {
   "cell_type": "markdown",
   "id": "02e22805",
   "metadata": {},
   "source": [
    "### Estatistics of Sample (Estatistica Amostral)"
   ]
  },
  {
   "cell_type": "code",
   "execution_count": null,
   "id": "9af7a414",
   "metadata": {},
   "outputs": [],
   "source": [
    "# Calcular a média simples e o desvio padrão simples, size =10\n",
    "# haverá diferentes medias e variancias quando executar o código\n",
    "\n",
    "a_sample = data['Population'].sample(10, replace=True)\n",
    "sample_mean = a_sample.mean()\n",
    "sample_var = a_sample.var(ddof = 1)\n",
    "sample_std = a_sample.std(ddof = 1)\n",
    "    # ddof = 1 significa que o denominador da formula da variancia é \"n-1\"\n",
    "    \n",
    "print('Sample mean is ', sample_mean)\n",
    "print('Sample variance is', sample_var)\n",
    "print('Sample standard deviation is ', sample_std)\n",
    "print('Sample size is ', a_sample.shape[0])"
   ]
  },
  {
   "cell_type": "markdown",
   "id": "2121999b",
   "metadata": {},
   "source": [
    "### Média de um estimador não enviesado"
   ]
  },
  {
   "cell_type": "code",
   "execution_count": null,
   "id": "fa39c036",
   "metadata": {},
   "outputs": [],
   "source": [
    "sample_length = 500\n",
    "sample_variance_collection1 = [data['Population'].sample(50, replace=True).var(ddof=0) for i in range(sample_length)]\n",
    "sample_variance_collection2 = [data['Population'].sample(50, replace=True).var(ddof=1) for i in range(sample_length)]"
   ]
  },
  {
   "cell_type": "code",
   "execution_count": null,
   "id": "f4ab3cad",
   "metadata": {},
   "outputs": [],
   "source": [
    "# A da variancia da amostra n-1 está mais proximo da media da variancia da população  \n",
    "print('Population variance is', data['Population'].var(ddof = 0))\n",
    "print('Average of sample variance with \"n\" is', pd.DataFrame(sample_variance_collection1)[0].mean())\n",
    "print('Average of sample variance with \"n-1\" is', pd.DataFrame(sample_variance_collection2)[0].mean())"
   ]
  }
 ],
 "metadata": {
  "kernelspec": {
   "display_name": "Python 3 (ipykernel)",
   "language": "python",
   "name": "python3"
  },
  "language_info": {
   "codemirror_mode": {
    "name": "ipython",
    "version": 3
   },
   "file_extension": ".py",
   "mimetype": "text/x-python",
   "name": "python",
   "nbconvert_exporter": "python",
   "pygments_lexer": "ipython3",
   "version": "3.10.9"
  }
 },
 "nbformat": 4,
 "nbformat_minor": 5
}
